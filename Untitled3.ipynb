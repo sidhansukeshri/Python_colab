{
  "nbformat": 4,
  "nbformat_minor": 0,
  "metadata": {
    "colab": {
      "provenance": []
    },
    "kernelspec": {
      "name": "python3",
      "display_name": "Python 3"
    },
    "language_info": {
      "name": "python"
    }
  },
  "cells": [
    {
      "cell_type": "markdown",
      "source": [
        "UNIT-2"
      ],
      "metadata": {
        "id": "KHcdlMkk362K"
      }
    },
    {
      "cell_type": "code",
      "source": [
        "import re\n",
        "txt=\"The rain in Spain\"\n",
        "x=re.search(\"^The.*Spain$\",txt)\n",
        "print(x)\n",
        "\n",
        "if x:\n",
        "    print(\"YES! We have a match!\")\n",
        "else:\n",
        "    print(\"No match\")"
      ],
      "metadata": {
        "colab": {
          "base_uri": "https://localhost:8080/"
        },
        "id": "TpjpP4gO39d5",
        "outputId": "a55258f3-8630-470f-9538-076b79a77d26"
      },
      "execution_count": null,
      "outputs": [
        {
          "output_type": "stream",
          "name": "stdout",
          "text": [
            "<re.Match object; span=(0, 17), match='The rain in Spain'>\n",
            "YES! We have a match!\n"
          ]
        }
      ]
    },
    {
      "cell_type": "code",
      "source": [
        "txt=\"The rain in Spain\"\n",
        "x=re.findall(\"ai\",txt)\n",
        "print(x)"
      ],
      "metadata": {
        "colab": {
          "base_uri": "https://localhost:8080/"
        },
        "id": "tuc2pa984Fpz",
        "outputId": "30f4049f-58d8-4254-f166-ca304f5277ac"
      },
      "execution_count": null,
      "outputs": [
        {
          "output_type": "stream",
          "name": "stdout",
          "text": [
            "['ai', 'ai']\n"
          ]
        }
      ]
    },
    {
      "cell_type": "code",
      "source": [
        "txt=\"The rain in Spain\"\n",
        "x=re.findall(\"Portugal\",txt)\n",
        "print(x)"
      ],
      "metadata": {
        "colab": {
          "base_uri": "https://localhost:8080/"
        },
        "id": "sdZcTT7u4JvS",
        "outputId": "b32aedd7-6063-4e08-db6d-25d0d6ef84c7"
      },
      "execution_count": null,
      "outputs": [
        {
          "output_type": "stream",
          "name": "stdout",
          "text": [
            "[]\n"
          ]
        }
      ]
    },
    {
      "cell_type": "code",
      "source": [
        "txt=\"The rain in Spain\"\n",
        "x=re.search(\"\\s\",txt)"
      ],
      "metadata": {
        "id": "NPQKyvvb4Myk"
      },
      "execution_count": null,
      "outputs": []
    },
    {
      "cell_type": "code",
      "source": [
        "import re\n",
        "\n",
        "text = \"The cat sat on the mat. The dog barked at the cat. Cats and dogs live in harmony.\"\n",
        "\n",
        "# Find all occurrences of the word \"cat\" or \"dog\" (case-insensitive)\n",
        "cat_dog_occurrences = re.findall(r'\\b(cat|dog)\\b', text, re.IGNORECASE)\n",
        "print(\"Occurrences of 'cat' or 'dog':\", cat_dog_occurrences)\n",
        "\n",
        "# Find all words that start with the letter 'c' and have exactly 3 letters (case-sensitive)\n",
        "c_words = re.findall(r'\\bc\\w{2}\\b', text)\n",
        "print(\"Words that start with 'c' and have exactly 3 letters:\", c_words)\n"
      ],
      "metadata": {
        "colab": {
          "base_uri": "https://localhost:8080/"
        },
        "id": "_knNQad24PNo",
        "outputId": "a1333071-4761-4cba-a80a-80c055af2f35"
      },
      "execution_count": null,
      "outputs": [
        {
          "output_type": "stream",
          "name": "stdout",
          "text": [
            "Occurrences of 'cat' or 'dog': ['cat', 'dog', 'cat']\n",
            "Words that start with 'c' and have exactly 3 letters: ['cat', 'cat']\n"
          ]
        }
      ]
    },
    {
      "cell_type": "code",
      "source": [
        "txt=\"The rain in Spain\"\n",
        "x=re.split(\"\\s\",txt)\n",
        "print(x)"
      ],
      "metadata": {
        "colab": {
          "base_uri": "https://localhost:8080/"
        },
        "id": "uIroc8si_-oA",
        "outputId": "f796bb8d-1e90-42e6-84f2-fa6eb8be57e5"
      },
      "execution_count": null,
      "outputs": [
        {
          "output_type": "stream",
          "name": "stdout",
          "text": [
            "['The', 'rain', 'in', 'Spain']\n"
          ]
        }
      ]
    },
    {
      "cell_type": "code",
      "source": [
        "txt=\"The rain in Spain\"\n",
        "x=re.search(r\"\\bS\\w+\",txt)\n",
        "print(x.span())"
      ],
      "metadata": {
        "colab": {
          "base_uri": "https://localhost:8080/"
        },
        "id": "XK-Dn4dhAIlX",
        "outputId": "502683f8-a2c4-46e3-8435-10ee6cf904eb"
      },
      "execution_count": null,
      "outputs": [
        {
          "output_type": "stream",
          "name": "stdout",
          "text": [
            "(12, 17)\n"
          ]
        }
      ]
    },
    {
      "cell_type": "code",
      "source": [
        "txt=\"The rain in Spain\"\n",
        "x=re.search(r\"\\bS\\w+\",txt)\n",
        "print(x.string)"
      ],
      "metadata": {
        "colab": {
          "base_uri": "https://localhost:8080/"
        },
        "id": "KkOVahk0Bh1F",
        "outputId": "0e4bcb9b-acb1-4158-e4b3-a8ec224aec82"
      },
      "execution_count": null,
      "outputs": [
        {
          "output_type": "stream",
          "name": "stdout",
          "text": [
            "The rain in Spain\n"
          ]
        }
      ]
    },
    {
      "cell_type": "code",
      "source": [
        "txt=\"The rain in Spain\"\n",
        "x=re.search(r\"\\bS\\w+\",txt)\n",
        "print(x.group())"
      ],
      "metadata": {
        "colab": {
          "base_uri": "https://localhost:8080/"
        },
        "id": "nQ5iuqVqD4nE",
        "outputId": "c229a721-aeff-4bd0-e04b-8a083d56d166"
      },
      "execution_count": null,
      "outputs": [
        {
          "output_type": "stream",
          "name": "stdout",
          "text": [
            "Spain\n"
          ]
        }
      ]
    },
    {
      "cell_type": "code",
      "source": [
        "txt=\"The rain in Spain\"\n",
        "x=re.sub(\"\\s\",\"9\",txt)\n",
        "print(x)"
      ],
      "metadata": {
        "colab": {
          "base_uri": "https://localhost:8080/"
        },
        "id": "zw0UtlozD61s",
        "outputId": "32f91103-8d57-48cc-8f37-e0fb5bcf3702"
      },
      "execution_count": null,
      "outputs": [
        {
          "output_type": "stream",
          "name": "stdout",
          "text": [
            "The9rain9in9Spain\n"
          ]
        }
      ]
    },
    {
      "cell_type": "code",
      "source": [
        "txt=\"The rain in Spain\"\n",
        "x=re.sub(\"\\s\",\"9\",txt,2)\n",
        "print(x)"
      ],
      "metadata": {
        "colab": {
          "base_uri": "https://localhost:8080/"
        },
        "id": "ihQRbks4EGPH",
        "outputId": "7777ff31-52e2-4729-f384-3d3d779c6575"
      },
      "execution_count": null,
      "outputs": [
        {
          "output_type": "stream",
          "name": "stdout",
          "text": [
            "The9rain9in Spain\n"
          ]
        }
      ]
    },
    {
      "cell_type": "code",
      "source": [],
      "metadata": {
        "id": "K2gtk5RiEJNw"
      },
      "execution_count": null,
      "outputs": []
    }
  ]
}